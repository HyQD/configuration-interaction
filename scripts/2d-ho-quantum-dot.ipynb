{
 "cells": [
  {
   "cell_type": "markdown",
   "metadata": {},
   "source": [
    "# Two-dimensional quantum dots using configuration interaction"
   ]
  },
  {
   "cell_type": "code",
   "execution_count": 1,
   "metadata": {},
   "outputs": [],
   "source": [
    "import numpy as np\n",
    "import matplotlib.pyplot as plt\n",
    "from matplotlib import cm\n",
    "from mpl_toolkits.mplot3d import Axes3D\n",
    "\n",
    "from quantum_systems import TwoDimensionalHarmonicOscillator\n",
    "from configuration_interaction import CIS, CID, CISD"
   ]
  },
  {
   "cell_type": "code",
   "execution_count": 2,
   "metadata": {},
   "outputs": [
    {
     "name": "stdout",
     "output_type": "stream",
     "text": [
      "HF converged to given precision in 8 iterations\n",
      "Ehf: (3.1626913498653275+0j)\n"
     ]
    }
   ],
   "source": [
    "n = 2\n",
    "l = 12\n",
    "\n",
    "radius = 8\n",
    "num_grid_points = 401\n",
    "omega = 1\n",
    "mass = 1\n",
    "\n",
    "tdho = TwoDimensionalHarmonicOscillator(n, l, radius, num_grid_points, omega=omega, mass=mass)\n",
    "tdho.setup_system()\n",
    "tdho.change_to_hf_basis(tolerance=1e-10, verbose=True)"
   ]
  },
  {
   "cell_type": "code",
   "execution_count": 3,
   "metadata": {},
   "outputs": [
    {
     "name": "stdout",
     "output_type": "stream",
     "text": [
      "Number of states to create: 21\n",
      "Size of a state in bytes: 4\n"
     ]
    }
   ],
   "source": [
    "cis = CIS(tdho, verbose=True, np=np)\n",
    "cis.setup_ci_space()"
   ]
  },
  {
   "cell_type": "code",
   "execution_count": 4,
   "metadata": {},
   "outputs": [
    {
     "name": "stdout",
     "output_type": "stream",
     "text": [
      "Time spent constructing Hamiltonian: 1.529686689376831 sec\n",
      "Time spent diagonalizing Hamiltonian: 0.006115913391113281 sec\n"
     ]
    }
   ],
   "source": [
    "cis.compute_ground_state()"
   ]
  },
  {
   "cell_type": "code",
   "execution_count": 5,
   "metadata": {},
   "outputs": [
    {
     "name": "stdout",
     "output_type": "stream",
     "text": [
      "CIS ground state energy: 3.1626913498656375\n"
     ]
    }
   ],
   "source": [
    "print(\"CIS ground state energy: {0}\".format(cis.energies[0]))"
   ]
  },
  {
   "cell_type": "code",
   "execution_count": 6,
   "metadata": {},
   "outputs": [
    {
     "name": "stdout",
     "output_type": "stream",
     "text": [
      "Number of states to create: 46\n",
      "Size of a state in bytes: 4\n",
      "Time spent setting up CID space: 0.001569986343383789 sec\n"
     ]
    }
   ],
   "source": [
    "cid = CID(tdho, verbose=True, np=np)\n",
    "cid.setup_ci_space()"
   ]
  },
  {
   "cell_type": "code",
   "execution_count": 7,
   "metadata": {},
   "outputs": [
    {
     "name": "stdout",
     "output_type": "stream",
     "text": [
      "Time spent constructing Hamiltonian: 3.1428520679473877 sec\n",
      "Time spent diagonalizing Hamiltonian: 0.0011534690856933594 sec\n"
     ]
    }
   ],
   "source": [
    "cid.compute_ground_state()"
   ]
  },
  {
   "cell_type": "code",
   "execution_count": 8,
   "metadata": {},
   "outputs": [
    {
     "name": "stdout",
     "output_type": "stream",
     "text": [
      "CID ground state energy: 3.0390478213486993\n"
     ]
    }
   ],
   "source": [
    "print(\"CID ground state energy: {0}\".format(cid.energies[0]))"
   ]
  },
  {
   "cell_type": "code",
   "execution_count": 9,
   "metadata": {},
   "outputs": [
    {
     "name": "stdout",
     "output_type": "stream",
     "text": [
      "Number of states to create: 66\n",
      "Size of a state in bytes: 4\n",
      "Time spent setting up CISD space: 0.00011968612670898438 sec\n"
     ]
    }
   ],
   "source": [
    "cisd = CISD(tdho, verbose=True, np=np)\n",
    "cisd.setup_ci_space()"
   ]
  },
  {
   "cell_type": "code",
   "execution_count": 10,
   "metadata": {},
   "outputs": [
    {
     "name": "stdout",
     "output_type": "stream",
     "text": [
      "Time spent constructing Hamiltonian: 6.472630739212036 sec\n",
      "Time spent diagonalizing Hamiltonian: 0.003263235092163086 sec\n"
     ]
    }
   ],
   "source": [
    "cisd.compute_ground_state()"
   ]
  },
  {
   "cell_type": "code",
   "execution_count": 11,
   "metadata": {},
   "outputs": [
    {
     "name": "stdout",
     "output_type": "stream",
     "text": [
      "CISD ground state energy: 3.038604576190984\n"
     ]
    }
   ],
   "source": [
    "print(\"CISD ground state energy: {0}\".format(cisd.energies[0]))"
   ]
  }
 ],
 "metadata": {
  "kernelspec": {
   "display_name": "Python 3",
   "language": "python",
   "name": "python3"
  },
  "language_info": {
   "codemirror_mode": {
    "name": "ipython",
    "version": 3
   },
   "file_extension": ".py",
   "mimetype": "text/x-python",
   "name": "python",
   "nbconvert_exporter": "python",
   "pygments_lexer": "ipython3",
   "version": "3.7.2"
  }
 },
 "nbformat": 4,
 "nbformat_minor": 2
}
