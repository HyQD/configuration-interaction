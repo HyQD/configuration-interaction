{
 "cells": [
  {
   "cell_type": "markdown",
   "metadata": {},
   "source": [
    "# Two-dimensional quantum dots using configuration interaction"
   ]
  },
  {
   "cell_type": "code",
   "execution_count": 1,
   "metadata": {},
   "outputs": [],
   "source": [
    "import numpy as np\n",
    "import matplotlib.pyplot as plt\n",
    "from matplotlib import cm\n",
    "from mpl_toolkits.mplot3d import Axes3D\n",
    "\n",
    "from quantum_systems import TwoDimensionalHarmonicOscillator\n",
    "from configuration_interaction import CIS, CID"
   ]
  },
  {
   "cell_type": "code",
   "execution_count": 2,
   "metadata": {},
   "outputs": [
    {
     "name": "stdout",
     "output_type": "stream",
     "text": [
      "HF converged to given precision in 7 iterations\n",
      "Ehf: (0.769149205466088+0j)\n"
     ]
    }
   ],
   "source": [
    "n = 2\n",
    "l = 20\n",
    "\n",
    "radius = 8\n",
    "num_grid_points = 401\n",
    "omega = 1 / 6\n",
    "mass = 1\n",
    "\n",
    "tdho = TwoDimensionalHarmonicOscillator(n, l, radius, num_grid_points, omega=omega, mass=mass)\n",
    "tdho.setup_system()\n",
    "tdho.change_to_hf_basis(tolerance=1e-8, verbose=True)"
   ]
  },
  {
   "cell_type": "code",
   "execution_count": 3,
   "metadata": {},
   "outputs": [
    {
     "name": "stdout",
     "output_type": "stream",
     "text": [
      "Number of states to create: 154\n",
      "Size of a state in bytes: 4\n",
      "Time spent setting up CID space: 0.0074350833892822266 sec\n"
     ]
    }
   ],
   "source": [
    "cid = CID(tdho, verbose=True, np=np)\n",
    "cid.setup_ci_space()"
   ]
  },
  {
   "cell_type": "code",
   "execution_count": 4,
   "metadata": {},
   "outputs": [
    {
     "name": "stdout",
     "output_type": "stream",
     "text": [
      "Time spent constructing Hamiltonian: 245.79672598838806 sec\n",
      "Time spent diagonalizing Hamiltonian: 0.0648193359375 sec\n"
     ]
    }
   ],
   "source": [
    "cid.compute_ground_state()"
   ]
  },
  {
   "cell_type": "code",
   "execution_count": 5,
   "metadata": {},
   "outputs": [
    {
     "name": "stdout",
     "output_type": "stream",
     "text": [
      "CID ground state energy: 0.6699011062401924\n"
     ]
    }
   ],
   "source": [
    "print(\"CID ground state energy: {0}\".format(cid.energies[0]))"
   ]
  },
  {
   "cell_type": "code",
   "execution_count": 6,
   "metadata": {},
   "outputs": [
    {
     "name": "stdout",
     "output_type": "stream",
     "text": [
      "Number of states to create: 37\n",
      "Size of a state in bytes: 4\n"
     ]
    }
   ],
   "source": [
    "cis = CIS(tdho, verbose=True, np=np)\n",
    "cis.setup_ci_space()"
   ]
  },
  {
   "cell_type": "code",
   "execution_count": 7,
   "metadata": {},
   "outputs": [
    {
     "name": "stdout",
     "output_type": "stream",
     "text": [
      "Time spent constructing Hamiltonian: 14.57965636253357 sec\n",
      "Time spent diagonalizing Hamiltonian: 0.0033388137817382812 sec\n"
     ]
    }
   ],
   "source": [
    "cis.compute_ground_state()"
   ]
  },
  {
   "cell_type": "code",
   "execution_count": 8,
   "metadata": {},
   "outputs": [
    {
     "name": "stdout",
     "output_type": "stream",
     "text": [
      "CIS ground state energy: 0.7416766371968796\n"
     ]
    }
   ],
   "source": [
    "print(\"CIS ground state energy: {0}\".format(cis.energies[0]))"
   ]
  }
 ],
 "metadata": {
  "kernelspec": {
   "display_name": "Python 3",
   "language": "python",
   "name": "python3"
  },
  "language_info": {
   "codemirror_mode": {
    "name": "ipython",
    "version": 3
   },
   "file_extension": ".py",
   "mimetype": "text/x-python",
   "name": "python",
   "nbconvert_exporter": "python",
   "pygments_lexer": "ipython3",
   "version": "3.7.2"
  }
 },
 "nbformat": 4,
 "nbformat_minor": 2
}
