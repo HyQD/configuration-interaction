{
 "cells": [
  {
   "cell_type": "markdown",
   "metadata": {},
   "source": [
    "# CISDTQ run for Beryllium"
   ]
  },
  {
   "cell_type": "code",
   "execution_count": 1,
   "metadata": {},
   "outputs": [],
   "source": [
    "import numpy as np\n",
    "import matplotlib.pyplot as plt\n",
    "import tqdm\n",
    "\n",
    "from quantum_systems import construct_psi4_system\n",
    "from quantum_systems.time_evolution_operators import LaserField\n",
    "from configuration_interaction import TDCISDTQ\n",
    "from configuration_interaction.integrators import GaussIntegrator"
   ]
  },
  {
   "cell_type": "code",
   "execution_count": 2,
   "metadata": {},
   "outputs": [],
   "source": [
    "class LaserPulse:\n",
    "    def __init__(self, t0=0, td=5, omega=0.1, E=0.03):\n",
    "        self.t0 = t0\n",
    "        self.td = td\n",
    "        self.omega = omega\n",
    "        self.E = E  # Field strength\n",
    "\n",
    "    def __call__(self, t):\n",
    "        T = self.td\n",
    "        delta_t = t - self.t0\n",
    "        return (\n",
    "            -(np.sin(np.pi * delta_t / T) ** 2)\n",
    "            * np.heaviside(delta_t, 1.0)\n",
    "            * np.heaviside(T - delta_t, 1.0)\n",
    "            * np.cos(self.omega * delta_t)\n",
    "            * self.E\n",
    "        )"
   ]
  },
  {
   "cell_type": "code",
   "execution_count": 3,
   "metadata": {},
   "outputs": [
    {
     "name": "stdout",
     "output_type": "stream",
     "text": [
      "HF converged to given precision in 39 iterations\n",
      "Ehf: -14.572337630953399\n"
     ]
    }
   ],
   "source": [
    "# System parameters\n",
    "Be = \"\"\"\n",
    "Be 0.0 0.0 0.0\n",
    "symmetry c1\n",
    "\"\"\"\n",
    "\n",
    "options = {\"basis\": \"cc-pvdz\", \"scf_type\": \"pk\", \"e_convergence\": 1e-6}\n",
    "omega = 0.2\n",
    "E = 1\n",
    "laser_duration = 5\n",
    "\n",
    "system = construct_psi4_system(Be, options)\n",
    "system.change_to_hf_basis(verbose=True, tolerance=1e-15, max_iters=100)"
   ]
  },
  {
   "cell_type": "code",
   "execution_count": null,
   "metadata": {},
   "outputs": [
    {
     "name": "stdout",
     "output_type": "stream",
     "text": [
      "Number of states to create: 20475\n",
      "Size of a state in bytes: 8\n",
      "Time spent setting up CISDTQ space: 0.04703974723815918 sec\n",
      "Time spent constructing Hamiltonian: 41.181333780288696 sec\n"
     ]
    }
   ],
   "source": [
    "integrator = GaussIntegrator(s=3, np=np, eps=1e-6)\n",
    "tdcisdtq = TDCISDTQ(system, integrator=integrator, np=np, verbose=True)\n",
    "tdcisdtq.compute_ground_state(k=6)\n",
    "print(f\"Ground state CISD energy: {tdcisdtq.compute_ground_state_energy()}\")"
   ]
  }
 ],
 "metadata": {
  "kernelspec": {
   "display_name": "Python 3",
   "language": "python",
   "name": "python3"
  },
  "language_info": {
   "codemirror_mode": {
    "name": "ipython",
    "version": 3
   },
   "file_extension": ".py",
   "mimetype": "text/x-python",
   "name": "python",
   "nbconvert_exporter": "python",
   "pygments_lexer": "ipython3",
   "version": "3.7.3"
  }
 },
 "nbformat": 4,
 "nbformat_minor": 2
}
