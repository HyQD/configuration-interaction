{
 "cells": [
  {
   "cell_type": "markdown",
   "metadata": {},
   "source": [
    "# CISDTQ run for Beryllium"
   ]
  },
  {
   "cell_type": "code",
   "execution_count": 1,
   "metadata": {},
   "outputs": [],
   "source": [
    "import numpy as np\n",
    "import matplotlib.pyplot as plt\n",
    "import tqdm\n",
    "\n",
    "from quantum_systems import construct_psi4_system, construct_pyscf_system\n",
    "from quantum_systems.time_evolution_operators import LaserField\n",
    "from configuration_interaction import TDCISD, TDCISDT, TDCISDTQ\n",
    "from configuration_interaction import CISDTQ\n",
    "from configuration_interaction.integrators import GaussIntegrator"
   ]
  },
  {
   "cell_type": "code",
   "execution_count": 2,
   "metadata": {},
   "outputs": [],
   "source": [
    "class LaserPulse:\n",
    "    def __init__(self, t0=0, td=5, omega=0.1, E=0.03):\n",
    "        self.t0 = t0\n",
    "        self.td = td\n",
    "        self.omega = omega\n",
    "        self.E = E  # Field strength\n",
    "\n",
    "    def __call__(self, t):\n",
    "        T = self.td\n",
    "        delta_t = t - self.t0\n",
    "        return (\n",
    "            -(np.sin(np.pi * delta_t / T) ** 2)\n",
    "            * np.heaviside(delta_t, 1.0)\n",
    "            * np.heaviside(T - delta_t, 1.0)\n",
    "            * np.cos(self.omega * delta_t)\n",
    "            * self.E\n",
    "        )"
   ]
  },
  {
   "cell_type": "code",
   "execution_count": 3,
   "metadata": {},
   "outputs": [
    {
     "name": "stdout",
     "output_type": "stream",
     "text": [
      "HF converged to given precision in 20 iterations\n",
      "Ehf: -14.572337630953502\n",
      "Number of states to create: 20475\n",
      "Size of a state in bytes: 8\n",
      "Time spent setting up CISDTQ space: 0.4844207763671875 sec\n"
     ]
    }
   ],
   "source": [
    "# System parameters\n",
    "Be = \"\"\"\n",
    "Be 0.0 0.0 0.0\n",
    "symmetry c1\n",
    "\"\"\"\n",
    "\n",
    "options = {\"basis\": \"cc-pvdz\", \"scf_type\": \"pk\", \"e_convergence\": 1e-6}\n",
    "omega = 0.2\n",
    "E = 1\n",
    "laser_duration = 5\n",
    "\n",
    "system = construct_psi4_system(Be, options)\n",
    "system.change_to_hf_basis(verbose=True, tolerance=1e-12, max_iters=100)\n",
    "\n",
    "cisdtq = CISDTQ(system, verbose=True, np=np)\n",
    "cisdtq.setup_ci_space()"
   ]
  },
  {
   "cell_type": "code",
   "execution_count": 4,
   "metadata": {},
   "outputs": [
    {
     "name": "stdout",
     "output_type": "stream",
     "text": [
      "Number of states after spin-reduction: 8281\n"
     ]
    }
   ],
   "source": [
    "cisdtq.spin_reduce_states()"
   ]
  },
  {
   "cell_type": "code",
   "execution_count": 5,
   "metadata": {},
   "outputs": [
    {
     "name": "stdout",
     "output_type": "stream",
     "text": [
      "Time spent constructing Hamiltonian: 10.23005747795105 sec\n",
      "Time spent diagonalizing Hamiltonian: 10.958813905715942 sec\n"
     ]
    }
   ],
   "source": [
    "cisdtq.compute_ground_state(k=1)"
   ]
  },
  {
   "cell_type": "code",
   "execution_count": 6,
   "metadata": {},
   "outputs": [
    {
     "name": "stdout",
     "output_type": "stream",
     "text": [
      "Ground state CISDTQ energy: -14.601783189700303\n"
     ]
    }
   ],
   "source": [
    "print(f\"Ground state CISDTQ energy: {cisdtq.energies[0]}\")"
   ]
  },
  {
   "cell_type": "code",
   "execution_count": 3,
   "metadata": {},
   "outputs": [
    {
     "name": "stdout",
     "output_type": "stream",
     "text": [
      "HF converged to given precision in 20 iterations\n",
      "Ehf: -14.572337630953502\n",
      "Number of states to create: 1753\n",
      "Size of a state in bytes: 8\n",
      "Time spent setting up CISD space: 0.051943302154541016 sec\n",
      "Time spent constructing Hamiltonian: 2.912092924118042 sec\n",
      "Time spent diagonalizing Hamiltonian: 7.164661407470703 sec\n",
      "Ground state CISD energy: -14.617355657601804\n"
     ]
    }
   ],
   "source": [
    "# System parameters\n",
    "Be = \"\"\"\n",
    "Be 0.0 0.0 0.0\n",
    "symmetry c1\n",
    "\"\"\"\n",
    "\n",
    "options = {\"basis\": \"cc-pvdz\", \"scf_type\": \"pk\", \"e_convergence\": 1e-6}\n",
    "omega = 0.2\n",
    "E = 1\n",
    "laser_duration = 5\n",
    "\n",
    "system = construct_psi4_system(Be, options)\n",
    "system.change_to_hf_basis(verbose=True, tolerance=1e-12, max_iters=100)\n",
    "\n",
    "integrator = GaussIntegrator(s=3, np=np, eps=1e-6)\n",
    "tdcisd = TDCISD(system, integrator=integrator, np=np, verbose=True)\n",
    "tdcisd.compute_ground_state()\n",
    "print(f\"Ground state CISD energy: {tdcisd.compute_ground_state_energy()}\")"
   ]
  },
  {
   "cell_type": "code",
   "execution_count": 4,
   "metadata": {},
   "outputs": [
    {
     "name": "stdout",
     "output_type": "stream",
     "text": [
      "converged SCF energy = -14.5723376309534  <S^2> = -1.7763568e-15  2S+1 = 1\n",
      "Number of states to create: 1753\n",
      "Size of a state in bytes: 8\n",
      "Time spent setting up CISD space: 0.000370025634765625 sec\n",
      "Time spent constructing Hamiltonian: 2.5929605960845947 sec\n",
      "Time spent diagonalizing Hamiltonian: 6.838831901550293 sec\n",
      "Ground state CISD energy: -14.617355787672162\n"
     ]
    }
   ],
   "source": [
    "omega = 0.2\n",
    "E = 1\n",
    "laser_duration = 5\n",
    "\n",
    "system = construct_pyscf_system(\"be 0 0 0\")\n",
    "\n",
    "integrator = GaussIntegrator(s=3, np=np, eps=1e-6)\n",
    "tdcisd = TDCISD(system, integrator=integrator, np=np, verbose=True)\n",
    "tdcisd.compute_ground_state()\n",
    "print(f\"Ground state CISD energy: {tdcisd.compute_ground_state_energy()}\")"
   ]
  },
  {
   "cell_type": "code",
   "execution_count": 5,
   "metadata": {},
   "outputs": [
    {
     "name": "stdout",
     "output_type": "stream",
     "text": [
      "HF converged to given precision in 20 iterations\n",
      "Ehf: -14.572337630953502\n",
      "Number of states to create: 1753\n",
      "Size of a state in bytes: 8\n",
      "Time spent setting up CISD space: 0.0003447532653808594 sec\n",
      "Time spent constructing Hamiltonian: 0.4610409736633301 sec\n",
      "Time spent diagonalizing Hamiltonian: 0.7744448184967041 sec\n",
      "Ground state CISD energy: -14.617355657602095\n"
     ]
    }
   ],
   "source": [
    "# System parameters\n",
    "Be = \"\"\"\n",
    "Be 0.0 0.0 0.0\n",
    "symmetry c1\n",
    "\"\"\"\n",
    "\n",
    "options = {\"basis\": \"cc-pvdz\", \"scf_type\": \"pk\", \"e_convergence\": 1e-6}\n",
    "omega = 0.2\n",
    "E = 1\n",
    "laser_duration = 5\n",
    "\n",
    "system = construct_psi4_system(Be, options)\n",
    "system.change_to_hf_basis(verbose=True, tolerance=1e-12, max_iters=100)\n",
    "\n",
    "integrator = GaussIntegrator(s=3, np=np, eps=1e-6)\n",
    "tdcisd = TDCISD(system, integrator=integrator, np=np, verbose=True)\n",
    "tdcisd.compute_ground_state(k=3)\n",
    "print(f\"Ground state CISD energy: {tdcisd.compute_ground_state_energy()}\")"
   ]
  },
  {
   "cell_type": "code",
   "execution_count": 6,
   "metadata": {},
   "outputs": [
    {
     "name": "stdout",
     "output_type": "stream",
     "text": [
      "converged SCF energy = -14.5723376309534  <S^2> = -1.7763568e-15  2S+1 = 1\n",
      "Number of states to create: 1753\n",
      "Size of a state in bytes: 8\n",
      "Time spent setting up CISD space: 0.0003566741943359375 sec\n",
      "Time spent constructing Hamiltonian: 0.4375345706939697 sec\n",
      "Time spent diagonalizing Hamiltonian: 0.7495083808898926 sec\n",
      "Ground state CISD energy: -14.617355787672386\n"
     ]
    }
   ],
   "source": [
    "omega = 0.2\n",
    "E = 1\n",
    "laser_duration = 5\n",
    "\n",
    "system = construct_pyscf_system(\"be 0 0 0\")\n",
    "\n",
    "integrator = GaussIntegrator(s=3, np=np, eps=1e-6)\n",
    "tdcisd = TDCISD(system, integrator=integrator, np=np, verbose=True)\n",
    "tdcisd.compute_ground_state(k=3)\n",
    "print(f\"Ground state CISD energy: {tdcisd.compute_ground_state_energy()}\")"
   ]
  },
  {
   "cell_type": "code",
   "execution_count": 7,
   "metadata": {},
   "outputs": [
    {
     "name": "stdout",
     "output_type": "stream",
     "text": [
      "HF converged to given precision in 20 iterations\n",
      "Ehf: -14.572337630953502\n",
      "Number of states to create: 9849\n",
      "Size of a state in bytes: 8\n",
      "Time spent setting up CISDT space: 0.0017464160919189453 sec\n",
      "Time spent constructing Hamiltonian: 10.220471858978271 sec\n",
      "Time spent diagonalizing Hamiltonian: 9.555538177490234 sec\n",
      "Ground state CISDT energy: -14.617392967275027\n"
     ]
    }
   ],
   "source": [
    "# System parameters\n",
    "Be = \"\"\"\n",
    "Be 0.0 0.0 0.0\n",
    "symmetry c1\n",
    "\"\"\"\n",
    "\n",
    "options = {\"basis\": \"cc-pvdz\", \"scf_type\": \"pk\", \"e_convergence\": 1e-6}\n",
    "omega = 0.2\n",
    "E = 1\n",
    "laser_duration = 5\n",
    "\n",
    "system = construct_psi4_system(Be, options)\n",
    "system.change_to_hf_basis(verbose=True, tolerance=1e-12, max_iters=100)\n",
    "\n",
    "integrator = GaussIntegrator(s=3, np=np, eps=1e-6)\n",
    "tdcisdt = TDCISDT(system, integrator=integrator, np=np, verbose=True)\n",
    "tdcisdt.compute_ground_state(k=1)\n",
    "print(f\"Ground state CISDT energy: {tdcisdt.compute_ground_state_energy()}\")"
   ]
  },
  {
   "cell_type": "code",
   "execution_count": 8,
   "metadata": {},
   "outputs": [
    {
     "name": "stdout",
     "output_type": "stream",
     "text": [
      "converged SCF energy = -14.5723376309534  <S^2> = -1.7763568e-15  2S+1 = 1\n",
      "Number of states to create: 9849\n",
      "Size of a state in bytes: 8\n",
      "Time spent setting up CISDT space: 0.001863241195678711 sec\n",
      "Time spent constructing Hamiltonian: 10.30835509300232 sec\n",
      "Time spent diagonalizing Hamiltonian: 9.544792890548706 sec\n",
      "Ground state CISDT energy: -14.617393310869325\n"
     ]
    }
   ],
   "source": [
    "omega = 0.2\n",
    "E = 1\n",
    "laser_duration = 5\n",
    "\n",
    "system = construct_pyscf_system(\"be 0 0 0\")\n",
    "\n",
    "integrator = GaussIntegrator(s=3, np=np, eps=1e-6)\n",
    "tdcisdt = TDCISDT(system, integrator=integrator, np=np, verbose=True)\n",
    "tdcisdt.compute_ground_state(k=1)\n",
    "print(f\"Ground state CISDT energy: {tdcisdt.compute_ground_state_energy()}\")"
   ]
  },
  {
   "cell_type": "code",
   "execution_count": 9,
   "metadata": {},
   "outputs": [
    {
     "name": "stdout",
     "output_type": "stream",
     "text": [
      "HF converged to given precision in 20 iterations\n",
      "Ehf: -14.572337630953502\n",
      "Number of states to create: 20475\n",
      "Size of a state in bytes: 8\n",
      "Time spent setting up CISDTQ space: 0.005303621292114258 sec\n",
      "Time spent constructing Hamiltonian: 41.44931221008301 sec\n",
      "Time spent diagonalizing Hamiltonian: 38.671656370162964 sec\n",
      "Ground state CISDTQ energy: -14.617409163254843\n"
     ]
    }
   ],
   "source": [
    "# System parameters\n",
    "Be = \"\"\"\n",
    "Be 0.0 0.0 0.0\n",
    "symmetry c1\n",
    "\"\"\"\n",
    "\n",
    "options = {\"basis\": \"cc-pvdz\", \"scf_type\": \"pk\", \"e_convergence\": 1e-6}\n",
    "omega = 0.2\n",
    "E = 1\n",
    "laser_duration = 5\n",
    "\n",
    "system = construct_psi4_system(Be, options)\n",
    "system.change_to_hf_basis(verbose=True, tolerance=1e-12, max_iters=100)\n",
    "\n",
    "integrator = GaussIntegrator(s=3, np=np, eps=1e-6)\n",
    "tdcisdtq = TDCISDTQ(system, integrator=integrator, np=np, verbose=True)\n",
    "tdcisdtq.compute_ground_state(k=1)\n",
    "print(f\"Ground state CISDTQ energy: {tdcisdtq.compute_ground_state_energy()}\")"
   ]
  },
  {
   "cell_type": "code",
   "execution_count": 10,
   "metadata": {},
   "outputs": [
    {
     "name": "stdout",
     "output_type": "stream",
     "text": [
      "converged SCF energy = -14.5723376309534  <S^2> = -1.3322676e-15  2S+1 = 1\n",
      "Number of states to create: 20475\n",
      "Size of a state in bytes: 8\n",
      "Time spent setting up CISDTQ space: 0.006079435348510742 sec\n",
      "Time spent constructing Hamiltonian: 85.0977668762207 sec\n",
      "Time spent diagonalizing Hamiltonian: 44.052061557769775 sec\n",
      "Ground state CISDTQ energy: -14.617409506553741\n"
     ]
    }
   ],
   "source": [
    "omega = 0.2\n",
    "E = 1\n",
    "laser_duration = 5\n",
    "\n",
    "system = construct_pyscf_system(\"be 0 0 0\")\n",
    "\n",
    "integrator = GaussIntegrator(s=3, np=np, eps=1e-6)\n",
    "tdcisdtq = TDCISDTQ(system, integrator=integrator, np=np, verbose=True)\n",
    "tdcisdtq.compute_ground_state(k=1)\n",
    "print(f\"Ground state CISDTQ energy: {tdcisdtq.compute_ground_state_energy()}\")"
   ]
  }
 ],
 "metadata": {
  "kernelspec": {
   "display_name": "Python 3",
   "language": "python",
   "name": "python3"
  },
  "language_info": {
   "codemirror_mode": {
    "name": "ipython",
    "version": 3
   },
   "file_extension": ".py",
   "mimetype": "text/x-python",
   "name": "python",
   "nbconvert_exporter": "python",
   "pygments_lexer": "ipython3",
   "version": "3.7.3"
  }
 },
 "nbformat": 4,
 "nbformat_minor": 2
}
