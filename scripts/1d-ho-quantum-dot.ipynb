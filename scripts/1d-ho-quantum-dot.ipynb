{
 "cells": [
  {
   "cell_type": "code",
   "execution_count": 2,
   "metadata": {},
   "outputs": [],
   "source": [
    "import numpy as np\n",
    "import matplotlib.pyplot as plt\n",
    "from matplotlib import cm\n",
    "from mpl_toolkits.mplot3d import Axes3D\n",
    "\n",
    "from quantum_systems import OneDimensionalHarmonicOscillator\n",
    "from configuration_interaction import CIS, CID, CISD"
   ]
  },
  {
   "cell_type": "code",
   "execution_count": 58,
   "metadata": {},
   "outputs": [
    {
     "name": "stdout",
     "output_type": "stream",
     "text": [
      "HF converged to given precision in 21 iterations\n",
      "Ehf: (1.179591165570661+0j)\n"
     ]
    }
   ],
   "source": [
    "n = 2\n",
    "l = 12\n",
    "\n",
    "radius = 10\n",
    "num_grid_points = 201\n",
    "omega = 0.25\n",
    "mass = 1\n",
    "\n",
    "odho = OneDimensionalHarmonicOscillator(n, l, radius, num_grid_points, omega=omega, mass=mass)\n",
    "odho.setup_system()\n",
    "\n",
    "odho.change_to_hf_basis(tolerance=1e-6, verbose=True)"
   ]
  },
  {
   "cell_type": "code",
   "execution_count": 59,
   "metadata": {},
   "outputs": [
    {
     "name": "stdout",
     "output_type": "stream",
     "text": [
      "Number of states to create: 21\n",
      "Size of a state in bytes: 8\n",
      "Time spent setting up CIS space: 2.9325485229492188e-05 sec\n"
     ]
    }
   ],
   "source": [
    "cis = CIS(odho, brute_force=False, verbose=True, np=np)\n",
    "cis.setup_ci_space()"
   ]
  },
  {
   "cell_type": "code",
   "execution_count": 60,
   "metadata": {},
   "outputs": [
    {
     "name": "stdout",
     "output_type": "stream",
     "text": [
      "Time spent constructing Hamiltonian: 0.0006768703460693359 sec\n",
      "Time spent diagonalizing Hamiltonian: 0.0010268688201904297 sec\n"
     ]
    }
   ],
   "source": [
    "cis.compute_ground_state()"
   ]
  },
  {
   "cell_type": "code",
   "execution_count": 61,
   "metadata": {},
   "outputs": [
    {
     "name": "stdout",
     "output_type": "stream",
     "text": [
      "CIS ground state energy: 0.8603180942773433\n"
     ]
    }
   ],
   "source": [
    "print(\"CIS ground state energy: {0}\".format(cis.energies[0]))"
   ]
  },
  {
   "cell_type": "code",
   "execution_count": 62,
   "metadata": {},
   "outputs": [
    {
     "name": "stdout",
     "output_type": "stream",
     "text": [
      "Time spent computing one-body matrix: 0.0344693660736084 sec\n"
     ]
    }
   ],
   "source": [
    "rho_cis = cis.compute_particle_density()"
   ]
  },
  {
   "cell_type": "code",
   "execution_count": 63,
   "metadata": {},
   "outputs": [
    {
     "data": {
      "image/png": "[encoded data removed]",
      "text/plain": [
       "<Figure size 1152x360 with 1 Axes>"
      ]
     },
     "metadata": {},
     "output_type": "display_data"
    }
   ],
   "source": [
    "fig = plt.figure(figsize=(16, 5))\n",
    "\n",
    "ax = fig.add_subplot(1, 3, 1)\n",
    "ax.set_title(r\"$|\\rho(\\mathbf{r})|^2$\", loc=\"left\")\n",
    "plt.plot(odho.grid, np.abs(rho_cis * rho_cis.conj()))\n",
    "plt.grid()"
   ]
  },
  {
   "cell_type": "code",
   "execution_count": 64,
   "metadata": {},
   "outputs": [
    {
     "name": "stdout",
     "output_type": "stream",
     "text": [
      "Number of states to create: 46\n",
      "Size of a state in bytes: 8\n",
      "Time spent setting up CID space: 0.0008082389831542969 sec\n"
     ]
    }
   ],
   "source": [
    "cid = CID(odho, brute_force=False, verbose=True, np=np)\n",
    "cid.setup_ci_space()"
   ]
  },
  {
   "cell_type": "code",
   "execution_count": 65,
   "metadata": {},
   "outputs": [
    {
     "name": "stdout",
     "output_type": "stream",
     "text": [
      "Time spent constructing Hamiltonian: 0.005887269973754883 sec\n",
      "Time spent diagonalizing Hamiltonian: 0.00442957878112793 sec\n"
     ]
    }
   ],
   "source": [
    "cid.compute_ground_state()"
   ]
  },
  {
   "cell_type": "code",
   "execution_count": 66,
   "metadata": {},
   "outputs": [
    {
     "name": "stdout",
     "output_type": "stream",
     "text": [
      "CID ground state energy: 0.8399421618466749\n"
     ]
    }
   ],
   "source": [
    "print(\"CID ground state energy: {0}\".format(cid.energies[0]))"
   ]
  },
  {
   "cell_type": "code",
   "execution_count": 67,
   "metadata": {},
   "outputs": [
    {
     "name": "stdout",
     "output_type": "stream",
     "text": [
      "Time spent computing one-body matrix: 0.11613988876342773 sec\n"
     ]
    }
   ],
   "source": [
    "rho_cid = cid.compute_particle_density()"
   ]
  },
  {
   "cell_type": "code",
   "execution_count": 68,
   "metadata": {},
   "outputs": [
    {
     "data": {
      "image/png": "[encoded data removed]",
      "text/plain": [
       "<Figure size 1152x360 with 1 Axes>"
      ]
     },
     "metadata": {},
     "output_type": "display_data"
    }
   ],
   "source": [
    "fig = plt.figure(figsize=(16, 5))\n",
    "\n",
    "ax = fig.add_subplot(1, 3, 1)\n",
    "ax.set_title(r\"$|\\rho(\\mathbf{r})|^2$\", loc=\"left\")\n",
    "plt.plot(odho.grid, np.abs(rho_cid * rho_cid.conj()))\n",
    "plt.grid()"
   ]
  },
  {
   "cell_type": "code",
   "execution_count": 69,
   "metadata": {},
   "outputs": [
    {
     "name": "stdout",
     "output_type": "stream",
     "text": [
      "Number of states to create: 66\n",
      "Size of a state in bytes: 8\n",
      "Time spent setting up CISD space: 0.00043654441833496094 sec\n"
     ]
    }
   ],
   "source": [
    "cisd = CISD(odho, brute_force=False, verbose=True, np=np)\n",
    "cisd.setup_ci_space()"
   ]
  },
  {
   "cell_type": "code",
   "execution_count": 70,
   "metadata": {},
   "outputs": [
    {
     "name": "stdout",
     "output_type": "stream",
     "text": [
      "Time spent constructing Hamiltonian: 0.011089563369750977 sec\n",
      "Time spent diagonalizing Hamiltonian: 0.0037262439727783203 sec\n"
     ]
    }
   ],
   "source": [
    "cisd.compute_ground_state()"
   ]
  },
  {
   "cell_type": "code",
   "execution_count": 71,
   "metadata": {},
   "outputs": [
    {
     "name": "stdout",
     "output_type": "stream",
     "text": [
      "CISD ground state energy: 0.8258351144820135\n"
     ]
    }
   ],
   "source": [
    "print(\"CISD ground state energy: {0}\".format(cisd.energies[0]))"
   ]
  },
  {
   "cell_type": "code",
   "execution_count": 72,
   "metadata": {},
   "outputs": [
    {
     "name": "stdout",
     "output_type": "stream",
     "text": [
      "Time spent computing one-body matrix: 0.23802685737609863 sec\n"
     ]
    }
   ],
   "source": [
    "rho_cisd = cisd.compute_particle_density()"
   ]
  },
  {
   "cell_type": "code",
   "execution_count": 73,
   "metadata": {},
   "outputs": [
    {
     "data": {
      "image/png": "[encoded data removed]",
      "text/plain": [
       "<Figure size 1152x360 with 1 Axes>"
      ]
     },
     "metadata": {},
     "output_type": "display_data"
    }
   ],
   "source": [
    "fig = plt.figure(figsize=(16, 5))\n",
    "\n",
    "ax = fig.add_subplot(1, 3, 1)\n",
    "ax.set_title(r\"$|\\rho(\\mathbf{r})|^2$\", loc=\"left\")\n",
    "plt.plot(odho.grid, np.abs(rho_cisd)**2)\n",
    "plt.grid()"
   ]
  },
  {
   "cell_type": "code",
   "execution_count": null,
   "metadata": {},
   "outputs": [],
   "source": []
  }
 ],
 "metadata": {
  "kernelspec": {
   "display_name": "Python 3",
   "language": "python",
   "name": "python3"
  },
  "language_info": {
   "codemirror_mode": {
    "name": "ipython",
    "version": 3
   },
   "file_extension": ".py",
   "mimetype": "text/x-python",
   "name": "python",
   "nbconvert_exporter": "python",
   "pygments_lexer": "ipython3",
   "version": "3.6.7"
  }
 },
 "nbformat": 4,
 "nbformat_minor": 2
}
