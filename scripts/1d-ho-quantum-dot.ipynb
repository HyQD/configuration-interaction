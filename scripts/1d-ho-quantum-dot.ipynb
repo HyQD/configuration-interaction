{
 "cells": [
  {
   "cell_type": "code",
   "execution_count": 1,
   "metadata": {},
   "outputs": [],
   "source": [
    "import numpy as np\n",
    "import matplotlib.pyplot as plt\n",
    "from matplotlib import cm\n",
    "from mpl_toolkits.mplot3d import Axes3D\n",
    "\n",
    "from quantum_systems import OneDimensionalHarmonicOscillator\n",
    "from configuration_interaction import CIS, CID, CISD"
   ]
  },
  {
   "cell_type": "code",
   "execution_count": 2,
   "metadata": {},
   "outputs": [
    {
     "name": "stdout",
     "output_type": "stream",
     "text": [
      "HF converged to given precision in 21 iterations\n",
      "Ehf: (1.1795911655882738+0j)\n"
     ]
    }
   ],
   "source": [
    "n = 2\n",
    "l = 12\n",
    "\n",
    "radius = 10\n",
    "num_grid_points = 201\n",
    "omega = 0.25\n",
    "mass = 1\n",
    "\n",
    "odho = OneDimensionalHarmonicOscillator(n, l, radius, num_grid_points, omega=omega, mass=mass)\n",
    "odho.setup_system()\n",
    "\n",
    "odho.change_to_hf_basis(tolerance=1e-6, verbose=True)"
   ]
  },
  {
   "cell_type": "code",
   "execution_count": 3,
   "metadata": {},
   "outputs": [
    {
     "name": "stdout",
     "output_type": "stream",
     "text": [
      "Number of states to create: 21\n",
      "Size of a state in bytes: 8\n",
      "Time spent setting up CIS space: 0.4221987724304199 sec\n"
     ]
    }
   ],
   "source": [
    "cis = CIS(odho, brute_force=False, verbose=True, np=np)\n",
    "cis.setup_ci_space()"
   ]
  },
  {
   "cell_type": "code",
   "execution_count": 4,
   "metadata": {},
   "outputs": [
    {
     "name": "stdout",
     "output_type": "stream",
     "text": [
      "Time spent constructing Hamiltonian: 4.066396236419678 sec\n",
      "Time spent diagonalizing Hamiltonian: 0.0005016326904296875 sec\n"
     ]
    }
   ],
   "source": [
    "cis.compute_ground_state()"
   ]
  },
  {
   "cell_type": "code",
   "execution_count": 5,
   "metadata": {},
   "outputs": [
    {
     "name": "stdout",
     "output_type": "stream",
     "text": [
      "CIS ground state energy: 0.8603180942793398\n"
     ]
    }
   ],
   "source": [
    "print(\"CIS ground state energy: {0}\".format(cis.energies[0]))"
   ]
  },
  {
   "cell_type": "code",
   "execution_count": 6,
   "metadata": {},
   "outputs": [
    {
     "name": "stdout",
     "output_type": "stream",
     "text": [
      "Time spent computing one-body matrix: 0.0031566619873046875 sec\n"
     ]
    }
   ],
   "source": [
    "rho_cis = cis.compute_particle_density()"
   ]
  },
  {
   "cell_type": "code",
   "execution_count": 7,
   "metadata": {},
   "outputs": [
    {
     "data": {
      "image/png": "[encoded data removed]",
      "text/plain": [
       "<Figure size 1152x360 with 1 Axes>"
      ]
     },
     "metadata": {
      "needs_background": "light"
     },
     "output_type": "display_data"
    }
   ],
   "source": [
    "fig = plt.figure(figsize=(16, 5))\n",
    "\n",
    "ax = fig.add_subplot(1, 3, 1)\n",
    "ax.set_title(r\"$|\\rho(\\mathbf{r})|^2$\", loc=\"left\")\n",
    "plt.plot(odho.grid, np.abs(rho_cis * rho_cis.conj()))\n",
    "plt.grid()"
   ]
  },
  {
   "cell_type": "code",
   "execution_count": 8,
   "metadata": {},
   "outputs": [
    {
     "name": "stdout",
     "output_type": "stream",
     "text": [
      "Number of states to create: 46\n",
      "Size of a state in bytes: 8\n",
      "Time spent setting up CID space: 0.2317512035369873 sec\n"
     ]
    }
   ],
   "source": [
    "cid = CID(odho, brute_force=False, verbose=True, np=np)\n",
    "cid.setup_ci_space()"
   ]
  },
  {
   "cell_type": "code",
   "execution_count": 9,
   "metadata": {},
   "outputs": [
    {
     "name": "stdout",
     "output_type": "stream",
     "text": [
      "Time spent constructing Hamiltonian: 0.0009150505065917969 sec\n",
      "Time spent diagonalizing Hamiltonian: 0.003956317901611328 sec\n"
     ]
    }
   ],
   "source": [
    "cid.compute_ground_state()"
   ]
  },
  {
   "cell_type": "code",
   "execution_count": 10,
   "metadata": {},
   "outputs": [
    {
     "name": "stdout",
     "output_type": "stream",
     "text": [
      "CID ground state energy: 0.8399421618469782\n"
     ]
    }
   ],
   "source": [
    "print(\"CID ground state energy: {0}\".format(cid.energies[0]))"
   ]
  },
  {
   "cell_type": "code",
   "execution_count": 11,
   "metadata": {},
   "outputs": [
    {
     "name": "stdout",
     "output_type": "stream",
     "text": [
      "Time spent computing one-body matrix: 0.008168697357177734 sec\n"
     ]
    }
   ],
   "source": [
    "rho_cid = cid.compute_particle_density()"
   ]
  },
  {
   "cell_type": "code",
   "execution_count": 12,
   "metadata": {},
   "outputs": [
    {
     "data": {
      "image/png": "[encoded data removed]",
      "text/plain": [
       "<Figure size 1152x360 with 1 Axes>"
      ]
     },
     "metadata": {
      "needs_background": "light"
     },
     "output_type": "display_data"
    }
   ],
   "source": [
    "fig = plt.figure(figsize=(16, 5))\n",
    "\n",
    "ax = fig.add_subplot(1, 3, 1)\n",
    "ax.set_title(r\"$|\\rho(\\mathbf{r})|^2$\", loc=\"left\")\n",
    "plt.plot(odho.grid, np.abs(rho_cid * rho_cid.conj()))\n",
    "plt.grid()"
   ]
  },
  {
   "cell_type": "code",
   "execution_count": 13,
   "metadata": {},
   "outputs": [
    {
     "name": "stdout",
     "output_type": "stream",
     "text": [
      "Number of states to create: 66\n",
      "Size of a state in bytes: 8\n",
      "Time spent setting up CISD space: 0.0013659000396728516 sec\n"
     ]
    }
   ],
   "source": [
    "cisd = CISD(odho, brute_force=False, verbose=True, np=np)\n",
    "cisd.setup_ci_space()"
   ]
  },
  {
   "cell_type": "code",
   "execution_count": 14,
   "metadata": {},
   "outputs": [
    {
     "name": "stdout",
     "output_type": "stream",
     "text": [
      "Time spent constructing Hamiltonian: 0.0014650821685791016 sec\n",
      "Time spent diagonalizing Hamiltonian: 0.0007395744323730469 sec\n"
     ]
    }
   ],
   "source": [
    "cisd.compute_ground_state()"
   ]
  },
  {
   "cell_type": "code",
   "execution_count": 15,
   "metadata": {},
   "outputs": [
    {
     "name": "stdout",
     "output_type": "stream",
     "text": [
      "CISD ground state energy: 0.8258351144820146\n"
     ]
    }
   ],
   "source": [
    "print(\"CISD ground state energy: {0}\".format(cisd.energies[0]))"
   ]
  },
  {
   "cell_type": "code",
   "execution_count": 16,
   "metadata": {},
   "outputs": [
    {
     "name": "stdout",
     "output_type": "stream",
     "text": [
      "Time spent computing one-body matrix: 0.014139890670776367 sec\n"
     ]
    }
   ],
   "source": [
    "rho_cisd = cisd.compute_particle_density()"
   ]
  },
  {
   "cell_type": "code",
   "execution_count": 17,
   "metadata": {},
   "outputs": [
    {
     "data": {
      "image/png": "[encoded data removed]",
      "text/plain": [
       "<Figure size 1152x360 with 1 Axes>"
      ]
     },
     "metadata": {
      "needs_background": "light"
     },
     "output_type": "display_data"
    }
   ],
   "source": [
    "fig = plt.figure(figsize=(16, 5))\n",
    "\n",
    "ax = fig.add_subplot(1, 3, 1)\n",
    "ax.set_title(r\"$|\\rho(\\mathbf{r})|^2$\", loc=\"left\")\n",
    "plt.plot(odho.grid, np.abs(rho_cisd)**2)\n",
    "plt.grid()"
   ]
  }
 ],
 "metadata": {
  "kernelspec": {
   "display_name": "Python 3",
   "language": "python",
   "name": "python3"
  },
  "language_info": {
   "codemirror_mode": {
    "name": "ipython",
    "version": 3
   },
   "file_extension": ".py",
   "mimetype": "text/x-python",
   "name": "python",
   "nbconvert_exporter": "python",
   "pygments_lexer": "ipython3",
   "version": "3.7.3"
  }
 },
 "nbformat": 4,
 "nbformat_minor": 2
}
